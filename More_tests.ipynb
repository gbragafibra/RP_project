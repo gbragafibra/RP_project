{
 "cells": [
  {
   "cell_type": "code",
   "execution_count": 10,
   "id": "0beae184-fd73-4028-b25e-ce968e8759c2",
   "metadata": {},
   "outputs": [],
   "source": [
    "from utils import *\n",
    "import time\n",
    "features, labels, handles = initial_processing(\"default_of_credit_card_clients.xls\")"
   ]
  },
  {
   "cell_type": "code",
   "execution_count": 11,
   "id": "240d9abf-7718-496d-a8e5-4eb48577f078",
   "metadata": {},
   "outputs": [
    {
     "name": "stdout",
     "output_type": "stream",
     "text": [
      "19.04670810699463\n"
     ]
    }
   ],
   "source": [
    "τ_i = time.time()\n",
    "data = class_separation(features, labels)[1]\n",
    "τ_f = time.time()\n",
    "print(τ_f - τ_i) #Is this the bottleneck?"
   ]
  },
  {
   "cell_type": "code",
   "execution_count": 9,
   "id": "60b420cb-783f-4d2e-9548-ce3d02b119b4",
   "metadata": {},
   "outputs": [
    {
     "name": "stdout",
     "output_type": "stream",
     "text": [
      "23364\n",
      "6636\n"
     ]
    }
   ],
   "source": [
    "print(data[0].shape[0])\n",
    "print(data[1].shape[0])"
   ]
  }
 ],
 "metadata": {
  "kernelspec": {
   "display_name": "Python 3 (ipykernel)",
   "language": "python",
   "name": "python3"
  },
  "language_info": {
   "codemirror_mode": {
    "name": "ipython",
    "version": 3
   },
   "file_extension": ".py",
   "mimetype": "text/x-python",
   "name": "python",
   "nbconvert_exporter": "python",
   "pygments_lexer": "ipython3",
   "version": "3.10.13"
  }
 },
 "nbformat": 4,
 "nbformat_minor": 5
}

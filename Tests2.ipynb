{
 "cells": [
  {
   "cell_type": "code",
   "execution_count": 2,
   "id": "9aabe232-6c5d-4782-9076-cd3bedf21874",
   "metadata": {},
   "outputs": [],
   "source": [
    "import numpy as np\n",
    "import pandas as pd\n",
    "from utils import *"
   ]
  },
  {
   "cell_type": "code",
   "execution_count": 6,
   "id": "4005979d-b136-4ff4-8c2b-92bf7b6f1327",
   "metadata": {},
   "outputs": [
    {
     "name": "stdout",
     "output_type": "stream",
     "text": [
      "(30000, 23)\n",
      "(30000,)\n",
      "X1     LIMIT_BAL\n",
      "X2           SEX\n",
      "X3     EDUCATION\n",
      "X4      MARRIAGE\n",
      "X5           AGE\n",
      "X6         PAY_0\n",
      "X7         PAY_2\n",
      "X8         PAY_3\n",
      "X9         PAY_4\n",
      "X10        PAY_5\n",
      "X11        PAY_6\n",
      "X12    BILL_AMT1\n",
      "X13    BILL_AMT2\n",
      "X14    BILL_AMT3\n",
      "X15    BILL_AMT4\n",
      "X16    BILL_AMT5\n",
      "X17    BILL_AMT6\n",
      "X18     PAY_AMT1\n",
      "X19     PAY_AMT2\n",
      "X20     PAY_AMT3\n",
      "X21     PAY_AMT4\n",
      "X22     PAY_AMT5\n",
      "X23     PAY_AMT6\n",
      "Name: 0, dtype: object\n"
     ]
    }
   ],
   "source": [
    "features, labels, handles = initial_processing(\"default_of_credit_card_clients.xls\")\n",
    "print(features.shape)\n",
    "print(labels.shape)\n",
    "print(handles)"
   ]
  },
  {
   "cell_type": "code",
   "execution_count": 7,
   "id": "33b91e02-a150-45d3-bdc1-e4ad157d6f4c",
   "metadata": {},
   "outputs": [
    {
     "data": {
      "text/plain": [
       "(23, 23)"
      ]
     },
     "execution_count": 7,
     "metadata": {},
     "output_type": "execute_result"
    }
   ],
   "source": [
    "cov_features, λ_vals, λ_vecs = compute_λ_cov(features)\n",
    "cov_features.shape"
   ]
  }
 ],
 "metadata": {
  "kernelspec": {
   "display_name": "Python 3 (ipykernel)",
   "language": "python",
   "name": "python3"
  },
  "language_info": {
   "codemirror_mode": {
    "name": "ipython",
    "version": 3
   },
   "file_extension": ".py",
   "mimetype": "text/x-python",
   "name": "python",
   "nbconvert_exporter": "python",
   "pygments_lexer": "ipython3",
   "version": "3.10.13"
  }
 },
 "nbformat": 4,
 "nbformat_minor": 5
}

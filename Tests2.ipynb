{
 "cells": [
  {
   "cell_type": "code",
   "execution_count": 1,
   "id": "9aabe232-6c5d-4782-9076-cd3bedf21874",
   "metadata": {},
   "outputs": [],
   "source": [
    "import numpy as np\n",
    "import pandas as pd\n",
    "from utils import *"
   ]
  },
  {
   "cell_type": "code",
   "execution_count": 2,
   "id": "4005979d-b136-4ff4-8c2b-92bf7b6f1327",
   "metadata": {},
   "outputs": [
    {
     "name": "stdout",
     "output_type": "stream",
     "text": [
      "(30000, 23)\n",
      "(30000,)\n",
      "X1     LIMIT_BAL\n",
      "X2           SEX\n",
      "X3     EDUCATION\n",
      "X4      MARRIAGE\n",
      "X5           AGE\n",
      "X6         PAY_0\n",
      "X7         PAY_2\n",
      "X8         PAY_3\n",
      "X9         PAY_4\n",
      "X10        PAY_5\n",
      "X11        PAY_6\n",
      "X12    BILL_AMT1\n",
      "X13    BILL_AMT2\n",
      "X14    BILL_AMT3\n",
      "X15    BILL_AMT4\n",
      "X16    BILL_AMT5\n",
      "X17    BILL_AMT6\n",
      "X18     PAY_AMT1\n",
      "X19     PAY_AMT2\n",
      "X20     PAY_AMT3\n",
      "X21     PAY_AMT4\n",
      "X22     PAY_AMT5\n",
      "X23     PAY_AMT6\n",
      "Name: 0, dtype: object\n"
     ]
    }
   ],
   "source": [
    "features, labels, handles = initial_processing(\"default_of_credit_card_clients.xls\")\n",
    "print(features.shape)\n",
    "print(labels.shape)\n",
    "print(handles)"
   ]
  },
  {
   "cell_type": "code",
   "execution_count": 3,
   "id": "33b91e02-a150-45d3-bdc1-e4ad157d6f4c",
   "metadata": {},
   "outputs": [
    {
     "data": {
      "text/plain": [
       "(23, 23)"
      ]
     },
     "execution_count": 3,
     "metadata": {},
     "output_type": "execute_result"
    }
   ],
   "source": [
    "cov_features, λ_vals, λ_vecs = compute_λ_cov(features)\n",
    "cov_features.shape"
   ]
  },
  {
   "cell_type": "code",
   "execution_count": 4,
   "id": "fa210eaa-0144-49a1-b2b0-3509259d9582",
   "metadata": {},
   "outputs": [
    {
     "data": {
      "text/plain": [
       "[316882.17179023515,\n",
       " 316882.17179023515,\n",
       " 316881.98191684583,\n",
       " 316879.4864433021,\n",
       " 316882.17179023515,\n",
       " 35569.82624903051,\n",
       " 13407.323102632216,\n",
       " 12002.732964986899,\n",
       " 6437.730243975186,\n",
       " 3334.6135888420217,\n",
       " 5142.0725267210955,\n",
       " 311118.8244506829,\n",
       " 308229.96386910934,\n",
       " 306125.60726887657,\n",
       " 303885.8002506753,\n",
       " 301796.3228245665,\n",
       " 297569.18051066884,\n",
       " 292455.8155431558,\n",
       " 291098.0494786854,\n",
       " 285491.7693617937,\n",
       " 280837.1972797292,\n",
       " 277554.43448199594,\n",
       " 272062.83086895145]"
      ]
     },
     "execution_count": 4,
     "metadata": {},
     "output_type": "execute_result"
    }
   ],
   "source": [
    "kruskal_wallis(features, labels)"
   ]
  },
  {
   "cell_type": "code",
   "execution_count": 5,
   "id": "b92185aa-f875-402c-9318-ccfab684e5d0",
   "metadata": {},
   "outputs": [
    {
     "data": {
      "text/plain": [
       "(array([0, 1]), array([23364,  6636]))"
      ]
     },
     "execution_count": 5,
     "metadata": {},
     "output_type": "execute_result"
    }
   ],
   "source": [
    "np.unique(labels, return_counts=True)"
   ]
  },
  {
   "cell_type": "code",
   "execution_count": 6,
   "id": "047a4c14-c6a9-4f77-912d-e3cd0434f747",
   "metadata": {},
   "outputs": [
    {
     "data": {
      "text/plain": [
       "array([[2.0000e+04, 2.0000e+00, 2.0000e+00, ..., 0.0000e+00, 0.0000e+00,\n",
       "        0.0000e+00],\n",
       "       [1.2000e+05, 2.0000e+00, 2.0000e+00, ..., 1.0000e+03, 0.0000e+00,\n",
       "        2.0000e+03],\n",
       "       [9.0000e+04, 2.0000e+00, 2.0000e+00, ..., 1.0000e+03, 1.0000e+03,\n",
       "        5.0000e+03],\n",
       "       ...,\n",
       "       [3.0000e+04, 1.0000e+00, 2.0000e+00, ..., 4.2000e+03, 2.0000e+03,\n",
       "        3.1000e+03],\n",
       "       [8.0000e+04, 1.0000e+00, 3.0000e+00, ..., 1.9260e+03, 5.2964e+04,\n",
       "        1.8040e+03],\n",
       "       [5.0000e+04, 1.0000e+00, 2.0000e+00, ..., 1.0000e+03, 1.0000e+03,\n",
       "        1.0000e+03]])"
      ]
     },
     "execution_count": 6,
     "metadata": {},
     "output_type": "execute_result"
    }
   ],
   "source": [
    "redundancy_check(features, 0.90, labels)"
   ]
  },
  {
   "cell_type": "code",
   "execution_count": 7,
   "id": "e5fffcd8-0425-4913-8d6d-c344db46a7af",
   "metadata": {},
   "outputs": [
    {
     "data": {
      "text/plain": [
       "(0.07296666666666667, 0.39076666666666665, 0.46373333333333333)"
      ]
     },
     "execution_count": 7,
     "metadata": {},
     "output_type": "execute_result"
    }
   ],
   "source": [
    "mdc_euclidean(features, labels) #As expected bigger ω1 wrong as dataset is unbalanced (Euclidean)"
   ]
  },
  {
   "cell_type": "code",
   "execution_count": 8,
   "id": "9bc92d04-c87f-423e-95e4-681c063636cf",
   "metadata": {},
   "outputs": [
    {
     "data": {
      "text/plain": [
       "(0.08096666666666667, 0.22043333333333334, 0.3014)"
      ]
     },
     "execution_count": 8,
     "metadata": {},
     "output_type": "execute_result"
    }
   ],
   "source": [
    "mcd_mahalanobis(features, labels) #Better"
   ]
  },
  {
   "cell_type": "code",
   "execution_count": 9,
   "id": "c21bcb34-f52b-4040-a0e2-970177fee8b6",
   "metadata": {},
   "outputs": [
    {
     "name": "stdout",
     "output_type": "stream",
     "text": [
      "(30000, 6)\n"
     ]
    },
    {
     "data": {
      "text/plain": [
       "array([[-1.88796243, -0.90610864,  0.48779485,  0.54001512,  0.99795729,\n",
       "         0.0444039 ],\n",
       "       [-0.76469577, -2.10928757, -1.0973135 ,  0.48347978,  0.85898024,\n",
       "        -0.23509848],\n",
       "       [-0.8474079 , -1.07217896, -0.4121783 ,  0.4335639 ,  0.77049273,\n",
       "         0.01866504],\n",
       "       ...,\n",
       "       [ 0.35745734, -3.31275482, -0.61074083, -0.47070134, -1.23310079,\n",
       "         0.73744741],\n",
       "       [ 0.65055188,  0.72290076, -0.52268173, -2.88382384, -0.24286323,\n",
       "         1.61520693],\n",
       "       [-0.14556441, -0.80975135,  1.32405316, -0.90223955, -1.05636005,\n",
       "         0.45503498]])"
      ]
     },
     "execution_count": 9,
     "metadata": {},
     "output_type": "execute_result"
    }
   ],
   "source": [
    "print(PCA(features, kaiser).shape)\n",
    "PCA(features, kaiser) #Seems to be working"
   ]
  },
  {
   "cell_type": "code",
   "execution_count": 3,
   "id": "61f07d42-fa42-4455-a32d-a330cbd01c12",
   "metadata": {},
   "outputs": [
    {
     "name": "stdout",
     "output_type": "stream",
     "text": [
      "Training error: 0.30151904761904763 ± 0.00307800698246884\n",
      "Testing error: 0.20212592592592596 ± 0.09208367876962563\n"
     ]
    }
   ],
   "source": [
    "run(features, labels, 10, classifier = \"mahalanobis\")"
   ]
  },
  {
   "cell_type": "code",
   "execution_count": 4,
   "id": "72b2a3ce-708d-4b3f-ad21-0f1f631fd2f9",
   "metadata": {},
   "outputs": [
    {
     "name": "stdout",
     "output_type": "stream",
     "text": [
      "Training error: 0.46395714285714285 ± 0.0021182127836516804\n",
      "Testing error: 0.3094962962962963 ± 0.16971426175993223\n"
     ]
    }
   ],
   "source": [
    "run(features, labels, 10, classifier = \"euclidean\")"
   ]
  },
  {
   "cell_type": "code",
   "execution_count": 3,
   "id": "cf17699e-4e40-4a6c-bba8-7f0aa5e2a24b",
   "metadata": {},
   "outputs": [
    {
     "name": "stdout",
     "output_type": "stream",
     "text": [
      "Training error: 0.363052380952381 ± 0.0033969741103776346\n",
      "Testing error: 0.23969629629629627 ± 0.11845549921774233\n"
     ]
    }
   ],
   "source": [
    "run(PCA(redundancy_check(features, 0.95, labels), kaiser), labels, 10, classifier = \"euclidean\")"
   ]
  },
  {
   "cell_type": "code",
   "execution_count": 4,
   "id": "8f6ce0af-fd41-4c71-8388-53c61d558915",
   "metadata": {},
   "outputs": [
    {
     "name": "stdout",
     "output_type": "stream",
     "text": [
      "Training error: 0.35306666666666664 ± 0.004471892566828022\n",
      "Testing error: 0.23623703703703702 ± 0.11474051861394467\n"
     ]
    }
   ],
   "source": [
    "run(PCA(redundancy_check(features, 0.95, labels), kaiser), labels, 10, classifier = \"mahalanobis\") #Worse"
   ]
  }
 ],
 "metadata": {
  "kernelspec": {
   "display_name": "Python 3 (ipykernel)",
   "language": "python",
   "name": "python3"
  },
  "language_info": {
   "codemirror_mode": {
    "name": "ipython",
    "version": 3
   },
   "file_extension": ".py",
   "mimetype": "text/x-python",
   "name": "python",
   "nbconvert_exporter": "python",
   "pygments_lexer": "ipython3",
   "version": "3.10.13"
  }
 },
 "nbformat": 4,
 "nbformat_minor": 5
}

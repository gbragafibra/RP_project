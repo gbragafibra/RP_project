{
 "cells": [
  {
   "cell_type": "code",
   "execution_count": 1,
   "id": "9b9e3bb7-489b-48b7-9220-cf09829b5876",
   "metadata": {},
   "outputs": [],
   "source": [
    "import numpy as np\n",
    "import pandas as pd\n",
    "from utils import *"
   ]
  },
  {
   "cell_type": "code",
   "execution_count": 2,
   "id": "81afb1b5-e366-46d7-96fa-18486b7df2d3",
   "metadata": {},
   "outputs": [],
   "source": [
    "features, labels, handles = initial_processing(\"default_of_credit_card_clients.xls\")"
   ]
  },
  {
   "cell_type": "code",
   "execution_count": 3,
   "id": "218a98ff-3096-4e7e-b311-6b930a5ed2cd",
   "metadata": {},
   "outputs": [
    {
     "data": {
      "text/plain": [
       "array([[2.93335639e-09],\n",
       "       [1.46680205e-08],\n",
       "       [2.09227166e-08],\n",
       "       ...,\n",
       "       [1.36084204e-08],\n",
       "       [5.09711443e-08],\n",
       "       [2.98529393e-08]])"
      ]
     },
     "execution_count": 3,
     "metadata": {},
     "output_type": "execute_result"
    }
   ],
   "source": [
    "LDA(features, labels)"
   ]
  },
  {
   "cell_type": "code",
   "execution_count": 4,
   "id": "0873c881-3af7-496d-95ac-5abbc721cfde",
   "metadata": {},
   "outputs": [
    {
     "name": "stdout",
     "output_type": "stream",
     "text": [
      "Training error: 0.5552380952380953 ± 0.0016707433136046472\n",
      "Testing error: 0.37100740740740734 ± 0.22185928127051852\n"
     ]
    }
   ],
   "source": [
    "run(LDA(features, labels), labels, 10, classifier = \"euclidean\") #Fisher LDA"
   ]
  },
  {
   "cell_type": "code",
   "execution_count": 5,
   "id": "a82aa9ef-e53f-43fa-a7e5-644978b35b55",
   "metadata": {},
   "outputs": [
    {
     "name": "stdout",
     "output_type": "stream",
     "text": [
      "Training error: 0.5450857142857142 ± 0.0021974836154936054\n",
      "Testing error: 0.36543703703703717 ± 0.21688956992404715\n"
     ]
    }
   ],
   "source": [
    "run(LDA(redundancy_check(features, 0.95, labels), labels), labels, 10, classifier = \"euclidean\") #Fisher LDA"
   ]
  },
  {
   "cell_type": "code",
   "execution_count": 3,
   "id": "8a6d5a66-d5e9-485b-b263-81376e03c2b2",
   "metadata": {},
   "outputs": [
    {
     "name": "stdout",
     "output_type": "stream",
     "text": [
      "Training error: 0.30249523809523804 ± 0.0053038385107246405\n",
      "Testing error: 0.20257777777777772 ± 0.09224699087288908\n"
     ]
    }
   ],
   "source": [
    "run(features, labels, 10, classifier = \"mahalanobis\") #With stratify of labels"
   ]
  },
  {
   "cell_type": "code",
   "execution_count": 4,
   "id": "5c821532-2853-4e61-bd5b-bee9b555628c",
   "metadata": {},
   "outputs": [
    {
     "name": "stdout",
     "output_type": "stream",
     "text": [
      "Training error: 0.46364761904761903 ± 0.0016563216355962435\n",
      "Testing error: 0.3095777777777778 ± 0.16953257064731858\n"
     ]
    }
   ],
   "source": [
    "run(features, labels, 10, classifier = \"euclidean\") #With stratify of labels"
   ]
  }
 ],
 "metadata": {
  "kernelspec": {
   "display_name": "Python 3 (ipykernel)",
   "language": "python",
   "name": "python3"
  },
  "language_info": {
   "codemirror_mode": {
    "name": "ipython",
    "version": 3
   },
   "file_extension": ".py",
   "mimetype": "text/x-python",
   "name": "python",
   "nbconvert_exporter": "python",
   "pygments_lexer": "ipython3",
   "version": "3.10.13"
  }
 },
 "nbformat": 4,
 "nbformat_minor": 5
}

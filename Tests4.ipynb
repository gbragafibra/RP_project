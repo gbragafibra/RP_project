{
 "cells": [
  {
   "cell_type": "code",
   "execution_count": 1,
   "id": "ef61eea5-8086-4878-9f94-7d54fc45006a",
   "metadata": {},
   "outputs": [],
   "source": [
    "from utils import *"
   ]
  },
  {
   "cell_type": "code",
   "execution_count": 2,
   "id": "9e403431-7a94-4214-b3af-49cc048c6913",
   "metadata": {},
   "outputs": [],
   "source": [
    "features, labels, handles = initial_processing(\"default_of_credit_card_clients.xls\")"
   ]
  },
  {
   "cell_type": "code",
   "execution_count": 3,
   "id": "607d2015-e57d-4b9c-acb8-3790d78cd094",
   "metadata": {},
   "outputs": [
    {
     "name": "stdout",
     "output_type": "stream",
     "text": [
      "Training error: 0.5544313725490195 ± 0.001387773563743345\n",
      "Validation error: 0.372 ± 0.22262242723481324\n"
     ]
    }
   ],
   "source": [
    "run(LDA(features, labels), labels, 10, 0.7, 0.15, classifier = \"euclidean\") #Fisher LDA"
   ]
  },
  {
   "cell_type": "code",
   "execution_count": 4,
   "id": "3f2db7ea-45f9-4518-91f7-2c7f8b2a0529",
   "metadata": {},
   "outputs": [
    {
     "name": "stdout",
     "output_type": "stream",
     "text": [
      "Training error: 0.5560616246498599 ± 0.0024909568965017412\n",
      "Validation error: 0.37166137566137564 ± 0.2205801908951126\n",
      "Testing error: 0.3696888888888889 ± 0.22096612480820946\n"
     ]
    }
   ],
   "source": [
    "run(LDA(features, labels), labels, 10, 0.7, 0.15, classifier = \"euclidean\",\n",
    "   testing = True) #Fisher LDA"
   ]
  },
  {
   "cell_type": "code",
   "execution_count": null,
   "id": "27688d6e-a92b-48d6-a96d-ee9e9d5099a6",
   "metadata": {},
   "outputs": [],
   "source": [
    "run(PCA(features, kaiser), labels, 2, 0.7, 0.15, classifier = \"euclidean\", testing=True,\n",
    "   plot = True)"
   ]
  },
  {
   "cell_type": "code",
   "execution_count": 3,
   "id": "511a8400-9e3a-460e-a586-4cf5e2ba1178",
   "metadata": {},
   "outputs": [
    {
     "name": "stdout",
     "output_type": "stream",
     "text": [
      "Training error: 0.3562 ± 0.0027\n",
      "Validation error: 0.3570 ± 0.0014\n",
      "Execution time: 18.66\n"
     ]
    }
   ],
   "source": [
    "run(PCA(features, kaiser), labels, 2, 0.7, 0.15, classifier = \"euclidean\")"
   ]
  },
  {
   "cell_type": "code",
   "execution_count": 3,
   "id": "3d2063fc-c249-4fab-825b-03b115f76bfd",
   "metadata": {},
   "outputs": [
    {
     "data": {
      "text/plain": [
       "(array([-0.10634111,  0.29044109, -0.02563025,  0.03055569,  0.01760112]),\n",
       " array([ 0.37519513, -1.05767754,  0.06893346, -0.07402467, -0.08523436]))"
      ]
     },
     "execution_count": 3,
     "metadata": {},
     "output_type": "execute_result"
    }
   ],
   "source": [
    "run(PCA(features, kaiser), labels, 2, 0.7, 0.15, classifier = \"euclidean\", testing=True,\n",
    "   plot = True) #Vectorized some things"
   ]
  }
 ],
 "metadata": {
  "kernelspec": {
   "display_name": "Python 3 (ipykernel)",
   "language": "python",
   "name": "python3"
  },
  "language_info": {
   "codemirror_mode": {
    "name": "ipython",
    "version": 3
   },
   "file_extension": ".py",
   "mimetype": "text/x-python",
   "name": "python",
   "nbconvert_exporter": "python",
   "pygments_lexer": "ipython3",
   "version": "3.10.13"
  }
 },
 "nbformat": 4,
 "nbformat_minor": 5
}

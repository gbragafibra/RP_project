{
 "cells": [
  {
   "cell_type": "code",
   "execution_count": 1,
   "id": "ef61eea5-8086-4878-9f94-7d54fc45006a",
   "metadata": {},
   "outputs": [],
   "source": [
    "import numpy as np\n",
    "import pandas as pd\n",
    "from utils import *"
   ]
  },
  {
   "cell_type": "code",
   "execution_count": 2,
   "id": "9e403431-7a94-4214-b3af-49cc048c6913",
   "metadata": {},
   "outputs": [],
   "source": [
    "features, labels, handles = initial_processing(\"default_of_credit_card_clients.xls\")"
   ]
  },
  {
   "cell_type": "code",
   "execution_count": 3,
   "id": "607d2015-e57d-4b9c-acb8-3790d78cd094",
   "metadata": {},
   "outputs": [
    {
     "name": "stdout",
     "output_type": "stream",
     "text": [
      "Training error: 0.5553781512605042 ± 0.00230704198110289\n",
      "Validation error: 0.3705820105820106 ± 0.2211326171977687\n"
     ]
    }
   ],
   "source": [
    "run(LDA(features, labels), labels, 10, 0.7, 0.15, classifier = \"euclidean\") #Fisher LDA"
   ]
  },
  {
   "cell_type": "code",
   "execution_count": 4,
   "id": "3f2db7ea-45f9-4518-91f7-2c7f8b2a0529",
   "metadata": {},
   "outputs": [
    {
     "name": "stdout",
     "output_type": "stream",
     "text": [
      "Training error: 0.5536358543417367 ± 0.0029036906905994847\n",
      "Validation error: 0.37164021164021166 ± 0.2212229890250013\n",
      "Testing error: 0.3708296296296297 ± 0.22078607923652363\n"
     ]
    }
   ],
   "source": [
    "run(LDA(features, labels), labels, 10, 0.7, 0.15, classifier = \"euclidean\",\n",
    "   testing = True) #Fisher LDA"
   ]
  }
 ],
 "metadata": {
  "kernelspec": {
   "display_name": "Python 3 (ipykernel)",
   "language": "python",
   "name": "python3"
  },
  "language_info": {
   "codemirror_mode": {
    "name": "ipython",
    "version": 3
   },
   "file_extension": ".py",
   "mimetype": "text/x-python",
   "name": "python",
   "nbconvert_exporter": "python",
   "pygments_lexer": "ipython3",
   "version": "3.10.13"
  }
 },
 "nbformat": 4,
 "nbformat_minor": 5
}
